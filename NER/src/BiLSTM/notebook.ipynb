{
 "metadata": {
  "language_info": {
   "codemirror_mode": {
    "name": "ipython",
    "version": 3
   },
   "file_extension": ".py",
   "mimetype": "text/x-python",
   "name": "python",
   "nbconvert_exporter": "python",
   "pygments_lexer": "ipython3",
   "version": "3.9.5"
  },
  "orig_nbformat": 4,
  "kernelspec": {
   "name": "python3",
   "display_name": "Python 3.9.5 64-bit ('pln': conda)"
  },
  "interpreter": {
   "hash": "1633cdc7743072587d9803d0373a3ef67629f49657801d1c6429cb5e65b6646f"
  }
 },
 "nbformat": 4,
 "nbformat_minor": 2,
 "cells": [
  {
   "cell_type": "code",
   "execution_count": 1,
   "metadata": {},
   "outputs": [],
   "source": [
    "# boilerplate\n",
    "import os\n",
    "import sys\n",
    "from pathlib import Path\n",
    "\n",
    "path = Path(os.getcwd())\n",
    "sys.path.append(str(path.parent))"
   ]
  },
  {
   "cell_type": "code",
   "execution_count": 2,
   "metadata": {},
   "outputs": [],
   "source": [
    "import numpy as np\n",
    "import tensorflow as tf\n",
    "\n",
    "from keras.models import Input, Model\n",
    "from sklearn.metrics import classification_report\n",
    "from keras.preprocessing.sequence import pad_sequences\n",
    "\n",
    "from bilstm import BiLSTM\n",
    "from preprocessing import SentencesGenerate"
   ]
  },
  {
   "cell_type": "code",
   "execution_count": 3,
   "metadata": {},
   "outputs": [],
   "source": [
    "PATH_DEV = '../../dataset/dev.txt'\n",
    "PATH_TEST = '../../dataset/test.txt'\n",
    "PATH_TRAIN = '../../dataset/train.txt'\n",
    "\n",
    "MIN_LENGTH = 3\n",
    "MAX_LEN_SENT = 128\n",
    "MAX_LEN_CHAR = 20"
   ]
  },
  {
   "source": [
    "### Carga de los datos"
   ],
   "cell_type": "markdown",
   "metadata": {}
  },
  {
   "cell_type": "code",
   "execution_count": 4,
   "metadata": {},
   "outputs": [],
   "source": [
    "dev = SentencesGenerate(path=PATH_DEV, min_length=MIN_LENGTH)\n",
    "test = SentencesGenerate(path=PATH_TEST, min_length=MIN_LENGTH)\n",
    "train = SentencesGenerate(path=PATH_TRAIN, min_length=MIN_LENGTH)"
   ]
  },
  {
   "source": [
    "### Preparación de los datos"
   ],
   "cell_type": "markdown",
   "metadata": {}
  },
  {
   "cell_type": "code",
   "execution_count": 5,
   "metadata": {},
   "outputs": [],
   "source": [
    "def convert2idx(words, chars, tags):\n",
    "    \n",
    "    word2idx = {w: i for i, w in enumerate(words, 2)}\n",
    "    word2idx['[PAD]'] = 0\n",
    "    word2idx['[UNK]'] = 1\n",
    "\n",
    "    char2idx = {c: i for i, c in enumerate(chars, 2)}\n",
    "    char2idx['[PAD]'] = 0\n",
    "    char2idx['[UNK]'] = 1\n",
    "\n",
    "    # 'O' Tag by [PAD]\n",
    "    tag2idx = {t: i for i, t in enumerate(tags)}\n",
    "\n",
    "    return word2idx, char2idx, tag2idx\n",
    "\n",
    "def get_word_input(sentences, max_len, word2idx):\n",
    "    X = [[word2idx.get(word, 1) for word in sent] for sent in sentences]\n",
    "    X = pad_sequences(sequences=X, maxlen=max_len, padding='post', value=word2idx['[PAD]'])\n",
    "    return X\n",
    "\n",
    "def get_y(sentences, max_len, tag2idx):\n",
    "    y = [[tag2idx[tag] for tag in sent] for sent in sentences]\n",
    "    y = pad_sequences(sequences=y, maxlen=max_len, padding='post', value=tag2idx['O'])\n",
    "    y = [tf.keras.utils.to_categorical(sent, num_classes=len(tag2idx)) for sent in y]\n",
    "    return np.array(y)\n",
    "\n",
    "def get_char_input(sentences, max_len_sent, max_len_char, char2idx):\n",
    "    X = []\n",
    "    for sent in sentences:\n",
    "        words_sequence = []\n",
    "        for w in range(max_len_sent):\n",
    "            chars_sequence = []\n",
    "            for c in range(max_len_char):\n",
    "                try:\n",
    "                    chars_sequence.append(char2idx.get(sent[w][c], 1))\n",
    "                except:\n",
    "                    chars_sequence.append(char2idx.get('[PAD]'))\n",
    "            words_sequence.append(chars_sequence)\n",
    "        X.append(np.array(words_sequence))\n",
    "    return np.array(X)\n",
    "\n",
    "words_train = train.vocab\n",
    "chars_train = list(set(''.join(words_train)))\n",
    "labels = train.labels\n",
    "\n",
    "word2idx, char2idx, tag2idx = convert2idx(words_train, chars_train, labels)\n",
    "\n",
    "# trainining set\n",
    "X_words_train = get_word_input(train.X, MAX_LEN_SENT, word2idx)\n",
    "X_chars_train = get_char_input(train.X, MAX_LEN_SENT, MAX_LEN_CHAR, char2idx)\n",
    "y_train = get_y(train.y, MAX_LEN_SENT, tag2idx)"
   ]
  },
  {
   "cell_type": "code",
   "execution_count": 6,
   "metadata": {},
   "outputs": [
    {
     "output_type": "execute_result",
     "data": {
      "text/plain": [
       "{'I-ORG': 0,\n",
       " 'O': 1,\n",
       " 'B-LOC': 2,\n",
       " 'I-LOC': 3,\n",
       " 'I-MISC': 4,\n",
       " 'B-MISC': 5,\n",
       " 'B-ORG': 6,\n",
       " 'B-PER': 7,\n",
       " 'I-PER': 8}"
      ]
     },
     "metadata": {},
     "execution_count": 6
    }
   ],
   "source": [
    "tag2idx"
   ]
  },
  {
   "cell_type": "code",
   "execution_count": 7,
   "metadata": {},
   "outputs": [
    {
     "output_type": "execute_result",
     "data": {
      "text/plain": [
       "0.23287431234451103"
      ]
     },
     "metadata": {},
     "execution_count": 7
    }
   ],
   "source": [
    "# vocabulary comparison on the training and test set \n",
    "len(train.vocab & test.vocab) / len(train.vocab | test.vocab)"
   ]
  },
  {
   "cell_type": "code",
   "execution_count": 8,
   "metadata": {},
   "outputs": [
    {
     "output_type": "stream",
     "name": "stdout",
     "text": [
      "(7118, 128) (7118, 128, 20) (7118, 128, 9)\n"
     ]
    }
   ],
   "source": [
    "print(X_words_train.shape, X_chars_train.shape, y_train.shape)"
   ]
  },
  {
   "source": [
    "### Definición del modelo BiLSTM-CNN"
   ],
   "cell_type": "markdown",
   "metadata": {}
  },
  {
   "cell_type": "code",
   "execution_count": 19,
   "metadata": {},
   "outputs": [],
   "source": [
    "model = BiLSTM(len(word2idx), len(char2idx), len(train.labels))\n",
    "\n",
    "# inputs\n",
    "word_input = Input(shape=(MAX_LEN_SENT,))\n",
    "char_input = Input(shape=(MAX_LEN_SENT, MAX_LEN_CHAR))\n",
    "\n",
    "output = model([char_input, word_input])\n",
    "model = Model(inputs=[char_input, word_input], outputs=output)\n"
   ]
  },
  {
   "cell_type": "code",
   "execution_count": 21,
   "metadata": {},
   "outputs": [
    {
     "output_type": "stream",
     "name": "stdout",
     "text": [
      "Model: \"model\"\n__________________________________________________________________________________________________\nLayer (type)                    Output Shape         Param #     Connected to                     \n==================================================================================================\ninput_8 (InputLayer)            [(None, 128, 20)]    0                                            \n__________________________________________________________________________________________________\ntime_distributed_6 (TimeDistrib (None, 128, 20, 15)  1395        input_8[0][0]                    \n__________________________________________________________________________________________________\ninput_7 (InputLayer)            [(None, 128)]        0                                            \n__________________________________________________________________________________________________\ntime_distributed_7 (TimeDistrib (None, 128, 18, 15)  690         time_distributed_6[0][0]         \n__________________________________________________________________________________________________\nembedding_4 (Embedding)         (None, 128, 300)     7830300     input_7[0][0]                    \n__________________________________________________________________________________________________\ntime_distributed_8 (TimeDistrib (None, 128, 15)      0           time_distributed_7[0][0]         \n__________________________________________________________________________________________________\nconcatenate_2 (Concatenate)     (None, 128, 315)     0           embedding_4[0][0]                \n                                                                 time_distributed_8[0][0]         \n__________________________________________________________________________________________________\nbidirectional_2 (Bidirectional) (None, 128, 128)     194560      concatenate_2[0][0]              \n__________________________________________________________________________________________________\ndense_4 (Dense)                 (None, 128, 64)      8256        bidirectional_2[0][0]            \n__________________________________________________________________________________________________\ndense_5 (Dense)                 (None, 128, 9)       585         dense_4[0][0]                    \n==================================================================================================\nTotal params: 8,035,786\nTrainable params: 8,035,786\nNon-trainable params: 0\n__________________________________________________________________________________________________\n"
     ]
    }
   ],
   "source": [
    "model.summary()\n"
   ]
  },
  {
   "source": [
    "### Definición de optimizador, función de costo y entrenamiento"
   ],
   "cell_type": "markdown",
   "metadata": {}
  },
  {
   "cell_type": "code",
   "execution_count": 22,
   "metadata": {},
   "outputs": [
    {
     "output_type": "stream",
     "name": "stdout",
     "text": [
      "Epoch 1/3\n",
      "223/223 [==============================] - 116s 410ms/step - loss: 0.4142 - accuracy: 0.9380\n",
      "Epoch 2/3\n",
      "223/223 [==============================] - 92s 412ms/step - loss: 0.0580 - accuracy: 0.9831\n",
      "Epoch 3/3\n",
      "223/223 [==============================] - 92s 413ms/step - loss: 0.0232 - accuracy: 0.9932\n"
     ]
    },
    {
     "output_type": "execute_result",
     "data": {
      "text/plain": [
       "<keras.callbacks.History at 0x7f037406b280>"
      ]
     },
     "metadata": {},
     "execution_count": 22
    }
   ],
   "source": [
    "# fit\n",
    "model.compile(optimizer='adam', loss='categorical_crossentropy', metrics=['accuracy'])\n",
    "model.fit(x=[X_chars_train, X_words_train], y=y_train, batch_size=32, epochs=3, verbose=1)"
   ]
  },
  {
   "cell_type": "code",
   "execution_count": 23,
   "metadata": {},
   "outputs": [],
   "source": [
    "# test set\n",
    "X_words_test = get_word_input(test.X, MAX_LEN_SENT, word2idx)\n",
    "X_chars_test = get_char_input(test.X, MAX_LEN_SENT, MAX_LEN_CHAR, char2idx)\n",
    "y_test = get_y(test.y, MAX_LEN_SENT, tag2idx)"
   ]
  },
  {
   "source": [
    "### Predicción"
   ],
   "cell_type": "markdown",
   "metadata": {}
  },
  {
   "cell_type": "code",
   "execution_count": 24,
   "metadata": {},
   "outputs": [],
   "source": [
    "y_predict = model.predict([X_chars_test, X_words_test])"
   ]
  },
  {
   "cell_type": "code",
   "execution_count": 25,
   "metadata": {},
   "outputs": [],
   "source": [
    "idx2tag = {i: tag for tag, i in tag2idx.items()}\n",
    "y_predict_bio = [list(map(lambda x: idx2tag[np.argmax(x)], sent)) for sent in y_predict]\n",
    "y_test_bio = [list(map(lambda x: idx2tag[np.argmax(x)], sent)) for sent in y_test]"
   ]
  },
  {
   "cell_type": "code",
   "execution_count": 26,
   "metadata": {},
   "outputs": [],
   "source": [
    "y_predict, y_actual = [], []\n",
    "for a, p in zip(y_test_bio, y_predict_bio):\n",
    "    y_actual.extend(a)\n",
    "    y_predict.extend(p)\n",
    "    assert len(y_predict) == len(y_actual)"
   ]
  },
  {
   "source": [
    "### Métricas"
   ],
   "cell_type": "markdown",
   "metadata": {}
  },
  {
   "cell_type": "code",
   "execution_count": 27,
   "metadata": {},
   "outputs": [
    {
     "output_type": "stream",
     "name": "stdout",
     "text": [
      "              precision    recall  f1-score   support\n\n       B-LOC       0.80      0.75      0.77      1077\n      B-MISC       0.54      0.58      0.56       339\n       B-ORG       0.85      0.80      0.83      1399\n       B-PER       0.91      0.76      0.83       727\n       I-LOC       0.61      0.70      0.65       325\n      I-MISC       0.62      0.54      0.58       557\n       I-ORG       0.89      0.75      0.81      1104\n       I-PER       0.96      0.88      0.92       626\n           O       1.00      1.00      1.00    166518\n\n    accuracy                           0.99    172672\n   macro avg       0.80      0.75      0.77    172672\nweighted avg       0.99      0.99      0.99    172672\n\n"
     ]
    }
   ],
   "source": [
    "print(classification_report(all_actual, all_predict))"
   ]
  }
 ]
}
{
 "metadata": {
  "language_info": {
   "codemirror_mode": {
    "name": "ipython",
    "version": 3
   },
   "file_extension": ".py",
   "mimetype": "text/x-python",
   "name": "python",
   "nbconvert_exporter": "python",
   "pygments_lexer": "ipython3",
   "version": "3.9.5"
  },
  "orig_nbformat": 4,
  "kernelspec": {
   "name": "python3",
   "display_name": "Python 3.9.5 64-bit ('pln': conda)"
  },
  "interpreter": {
   "hash": "1633cdc7743072587d9803d0373a3ef67629f49657801d1c6429cb5e65b6646f"
  }
 },
 "nbformat": 4,
 "nbformat_minor": 2,
 "cells": [
  {
   "cell_type": "code",
   "execution_count": 1,
   "metadata": {},
   "outputs": [],
   "source": [
    "# boilerplate\n",
    "import os\n",
    "import sys\n",
    "from pathlib import Path\n",
    "\n",
    "path = Path(os.getcwd())\n",
    "sys.path.append(str(path.parent))"
   ]
  },
  {
   "cell_type": "code",
   "execution_count": 2,
   "metadata": {},
   "outputs": [],
   "source": [
    "import numpy as np\n",
    "\n",
    "from sklearn.svm import LinearSVC\n",
    "from sklearn.pipeline import Pipeline\n",
    "from sklearn.metrics import classification_report\n",
    "from sklearn.feature_extraction import DictVectorizer\n",
    "\n",
    "from preprocessing import SentencesGenerate"
   ]
  },
  {
   "source": [
    "### Carga de los datos"
   ],
   "cell_type": "markdown",
   "metadata": {}
  },
  {
   "cell_type": "code",
   "execution_count": 30,
   "metadata": {},
   "outputs": [],
   "source": [
    "PATH_DEV = '../../dataset/dev.txt'\n",
    "PATH_TEST = '../../dataset/test.txt'\n",
    "PATH_TRAIN = '../../dataset/train.txt'\n",
    "\n",
    "MIN_LENGTH = 4"
   ]
  },
  {
   "cell_type": "code",
   "execution_count": 31,
   "metadata": {},
   "outputs": [],
   "source": [
    "dev = SentencesGenerate(path=PATH_DEV, min_length=MIN_LENGTH)\n",
    "test = SentencesGenerate(path=PATH_TEST, min_length=MIN_LENGTH)\n",
    "train = SentencesGenerate(path=PATH_TRAIN, min_length=MIN_LENGTH)"
   ]
  },
  {
   "source": [
    "### Preparación de los datos\n",
    "\n",
    "Creación de la ventana deslizante: utilizamos una ventana de tamaño *4* siendo la palabra central la tercera posición de la ventana, mientras que la primera y segunda posición indican palabras previas y la cuarta posición una palabra posterior. Cada palabra dentro de la ventana es caracterizada de la siguiente manera:\n",
    "   \n",
    "* *Token* en minúscula\n",
    "* Característica *booleana* indicando si se encuentra en mayúscula (Unicamente palabra central)\n",
    "* Característica *booleana* indicando si es de tipo númerico (Posiciónes 2, 3 y 4)\n",
    "* Característica *booleana* indicando si comienza con mayúscula (Posiciónes 2, 3 y 4)\n"
   ],
   "cell_type": "markdown",
   "metadata": {}
  },
  {
   "cell_type": "code",
   "execution_count": 32,
   "metadata": {},
   "outputs": [],
   "source": [
    "def word2features(sent, i):\n",
    "    # i(ndex) word from sent\n",
    "    word = sent[i]\n",
    "    \n",
    "    # features dict\n",
    "    fs = {\n",
    "        'lower': word.lower(),\n",
    "        'isupper': word.isupper(),\n",
    "        'istitle': word.istitle(),\n",
    "        'isdigit': word.isdigit(),\n",
    "    }\n",
    "    \n",
    "    # previous word\n",
    "    if i > 0:\n",
    "        pword = sent[i-1]\n",
    "        fs.update({\n",
    "            'pword': pword.lower(),\n",
    "            'pwistitle': pword.istitle(),\n",
    "            'pwisdigit': pword.isdigit(),\n",
    "        })\n",
    "        # previous previous word\n",
    "        if i > 1:\n",
    "            fs.update({\n",
    "                'ppword': sent[i-2].lower(),\n",
    "            })\n",
    "    else:\n",
    "        fs.update({\n",
    "            'pword': '',\n",
    "        })\n",
    "        \n",
    "    # next word\n",
    "    if i < len(sent)-1:\n",
    "        nword = sent[i+1]\n",
    "        fs.update({\n",
    "            'nword': nword.lower(),\n",
    "            'nwistitle': nword.istitle(),\n",
    "            'nwisdigit': nword.isdigit(),\n",
    "        })\n",
    "    else:\n",
    "        fs.update({\n",
    "            'nword': '',\n",
    "        })\n",
    "        \n",
    "    return fs\n",
    "\n",
    "def sent2features(sent):\n",
    "    return [word2features(sent, i) for i in range(len(sent))]"
   ]
  },
  {
   "cell_type": "code",
   "execution_count": 33,
   "metadata": {},
   "outputs": [],
   "source": [
    "def transform(sentences, tags):\n",
    "    X, y = [], []\n",
    "    for sent, tag in zip(sentences, tags):\n",
    "        X += sent2features(sent)\n",
    "        y.extend(tag)\n",
    "    return X, y"
   ]
  },
  {
   "cell_type": "code",
   "execution_count": 34,
   "metadata": {},
   "outputs": [],
   "source": [
    "X_train, y_train = transform(train.X, train.y)\n",
    "X_test, y_test = transform(test.X, test.y)"
   ]
  },
  {
   "source": [
    "### Definición del *pipeline*"
   ],
   "cell_type": "markdown",
   "metadata": {}
  },
  {
   "cell_type": "code",
   "execution_count": 35,
   "metadata": {},
   "outputs": [],
   "source": [
    "clf = LinearSVC()\n",
    "vectorizer = DictVectorizer()\n",
    "pipeline =  Pipeline([('vect', vectorizer), ('clf', clf),])"
   ]
  },
  {
   "cell_type": "code",
   "execution_count": 36,
   "metadata": {},
   "outputs": [
    {
     "output_type": "execute_result",
     "data": {
      "text/plain": [
       "({'lower': 'la',\n",
       "  'isupper': False,\n",
       "  'istitle': True,\n",
       "  'isdigit': False,\n",
       "  'pword': '',\n",
       "  'nword': 'coruña',\n",
       "  'nwistitle': True,\n",
       "  'nwisdigit': False},\n",
       " 'B-LOC')"
      ]
     },
     "metadata": {},
     "execution_count": 36
    }
   ],
   "source": [
    "X_test[0], y_test[0]"
   ]
  },
  {
   "source": [
    "### Entrenamiento"
   ],
   "cell_type": "markdown",
   "metadata": {}
  },
  {
   "cell_type": "code",
   "execution_count": 37,
   "metadata": {},
   "outputs": [
    {
     "output_type": "execute_result",
     "data": {
      "text/plain": [
       "Pipeline(steps=[('vect', DictVectorizer()), ('clf', LinearSVC())])"
      ]
     },
     "metadata": {},
     "execution_count": 37
    }
   ],
   "source": [
    "pipeline.fit(X_train, y_train)"
   ]
  },
  {
   "source": [
    "### Predicción"
   ],
   "cell_type": "markdown",
   "metadata": {}
  },
  {
   "cell_type": "code",
   "execution_count": 38,
   "metadata": {},
   "outputs": [],
   "source": [
    "y_predict = pipeline.predict(X_test)"
   ]
  },
  {
   "source": [
    "### Métricas"
   ],
   "cell_type": "markdown",
   "metadata": {}
  },
  {
   "cell_type": "code",
   "execution_count": 39,
   "metadata": {},
   "outputs": [
    {
     "output_type": "stream",
     "name": "stdout",
     "text": [
      "              precision    recall  f1-score   support\n\n       B-LOC       0.79      0.74      0.76      1083\n      B-MISC       0.63      0.49      0.55       339\n       B-ORG       0.79      0.83      0.81      1397\n       B-PER       0.83      0.88      0.85       735\n       I-LOC       0.75      0.58      0.66       325\n      I-MISC       0.68      0.40      0.50       557\n       I-ORG       0.78      0.67      0.73      1104\n       I-PER       0.86      0.92      0.89       634\n           O       0.99      1.00      0.99     45127\n\n    accuracy                           0.97     51301\n   macro avg       0.79      0.72      0.75     51301\nweighted avg       0.96      0.97      0.96     51301\n\n"
     ]
    }
   ],
   "source": [
    "print(classification_report(y_test, y_predict))"
   ]
  }
 ]
}